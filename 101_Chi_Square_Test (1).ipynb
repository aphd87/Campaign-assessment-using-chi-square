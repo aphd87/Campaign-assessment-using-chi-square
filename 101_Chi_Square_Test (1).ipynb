{
 "cells": [
  {
   "cell_type": "code",
   "execution_count": 1,
   "id": "a94d6a07",
   "metadata": {},
   "outputs": [
    {
     "data": {
      "text/html": [
       "<style>.container { width:100% !important; }</style>"
      ],
      "text/plain": [
       "<IPython.core.display.HTML object>"
      ]
     },
     "metadata": {},
     "output_type": "display_data"
    }
   ],
   "source": [
    "import pandas as pd\n",
    "import numpy as np\n",
    "from scipy.stats import chi2_contingency, chi2 #Chi-square and p-value\n",
    "from IPython.display import display, HTML\n",
    "display(HTML(\"<style>.container { width:100% !important; }</style>\"))"
   ]
  },
  {
   "cell_type": "code",
   "execution_count": 2,
   "id": "03414a71",
   "metadata": {},
   "outputs": [],
   "source": [
    "campaign_data = pd.read_excel(\"grocery_database.xlsx\", sheet_name=\"campaign_data\")"
   ]
  },
  {
   "cell_type": "code",
   "execution_count": 3,
   "id": "3d63265f",
   "metadata": {},
   "outputs": [
    {
     "data": {
      "text/html": [
       "<div>\n",
       "<style scoped>\n",
       "    .dataframe tbody tr th:only-of-type {\n",
       "        vertical-align: middle;\n",
       "    }\n",
       "\n",
       "    .dataframe tbody tr th {\n",
       "        vertical-align: top;\n",
       "    }\n",
       "\n",
       "    .dataframe thead th {\n",
       "        text-align: right;\n",
       "    }\n",
       "</style>\n",
       "<table border=\"1\" class=\"dataframe\">\n",
       "  <thead>\n",
       "    <tr style=\"text-align: right;\">\n",
       "      <th></th>\n",
       "      <th>customer_id</th>\n",
       "      <th>campaign_name</th>\n",
       "      <th>campaign_date</th>\n",
       "      <th>mailer_type</th>\n",
       "      <th>signup_flag</th>\n",
       "    </tr>\n",
       "  </thead>\n",
       "  <tbody>\n",
       "    <tr>\n",
       "      <th>0</th>\n",
       "      <td>74</td>\n",
       "      <td>delivery_club</td>\n",
       "      <td>2020-07-01</td>\n",
       "      <td>Mailer1</td>\n",
       "      <td>1</td>\n",
       "    </tr>\n",
       "    <tr>\n",
       "      <th>1</th>\n",
       "      <td>524</td>\n",
       "      <td>delivery_club</td>\n",
       "      <td>2020-07-01</td>\n",
       "      <td>Mailer1</td>\n",
       "      <td>1</td>\n",
       "    </tr>\n",
       "    <tr>\n",
       "      <th>2</th>\n",
       "      <td>607</td>\n",
       "      <td>delivery_club</td>\n",
       "      <td>2020-07-01</td>\n",
       "      <td>Mailer2</td>\n",
       "      <td>1</td>\n",
       "    </tr>\n",
       "    <tr>\n",
       "      <th>3</th>\n",
       "      <td>343</td>\n",
       "      <td>delivery_club</td>\n",
       "      <td>2020-07-01</td>\n",
       "      <td>Mailer1</td>\n",
       "      <td>0</td>\n",
       "    </tr>\n",
       "    <tr>\n",
       "      <th>4</th>\n",
       "      <td>322</td>\n",
       "      <td>delivery_club</td>\n",
       "      <td>2020-07-01</td>\n",
       "      <td>Mailer2</td>\n",
       "      <td>1</td>\n",
       "    </tr>\n",
       "    <tr>\n",
       "      <th>...</th>\n",
       "      <td>...</td>\n",
       "      <td>...</td>\n",
       "      <td>...</td>\n",
       "      <td>...</td>\n",
       "      <td>...</td>\n",
       "    </tr>\n",
       "    <tr>\n",
       "      <th>865</th>\n",
       "      <td>372</td>\n",
       "      <td>delivery_club</td>\n",
       "      <td>2020-07-01</td>\n",
       "      <td>Mailer2</td>\n",
       "      <td>1</td>\n",
       "    </tr>\n",
       "    <tr>\n",
       "      <th>866</th>\n",
       "      <td>104</td>\n",
       "      <td>delivery_club</td>\n",
       "      <td>2020-07-01</td>\n",
       "      <td>Mailer1</td>\n",
       "      <td>1</td>\n",
       "    </tr>\n",
       "    <tr>\n",
       "      <th>867</th>\n",
       "      <td>393</td>\n",
       "      <td>delivery_club</td>\n",
       "      <td>2020-07-01</td>\n",
       "      <td>Mailer2</td>\n",
       "      <td>1</td>\n",
       "    </tr>\n",
       "    <tr>\n",
       "      <th>868</th>\n",
       "      <td>373</td>\n",
       "      <td>delivery_club</td>\n",
       "      <td>2020-07-01</td>\n",
       "      <td>Control</td>\n",
       "      <td>0</td>\n",
       "    </tr>\n",
       "    <tr>\n",
       "      <th>869</th>\n",
       "      <td>712</td>\n",
       "      <td>delivery_club</td>\n",
       "      <td>2020-07-01</td>\n",
       "      <td>Control</td>\n",
       "      <td>0</td>\n",
       "    </tr>\n",
       "  </tbody>\n",
       "</table>\n",
       "<p>870 rows × 5 columns</p>\n",
       "</div>"
      ],
      "text/plain": [
       "     customer_id  campaign_name campaign_date mailer_type  signup_flag\n",
       "0             74  delivery_club    2020-07-01     Mailer1            1\n",
       "1            524  delivery_club    2020-07-01     Mailer1            1\n",
       "2            607  delivery_club    2020-07-01     Mailer2            1\n",
       "3            343  delivery_club    2020-07-01     Mailer1            0\n",
       "4            322  delivery_club    2020-07-01     Mailer2            1\n",
       "..           ...            ...           ...         ...          ...\n",
       "865          372  delivery_club    2020-07-01     Mailer2            1\n",
       "866          104  delivery_club    2020-07-01     Mailer1            1\n",
       "867          393  delivery_club    2020-07-01     Mailer2            1\n",
       "868          373  delivery_club    2020-07-01     Control            0\n",
       "869          712  delivery_club    2020-07-01     Control            0\n",
       "\n",
       "[870 rows x 5 columns]"
      ]
     },
     "execution_count": 3,
     "metadata": {},
     "output_type": "execute_result"
    }
   ],
   "source": [
    "campaign_data"
   ]
  },
  {
   "cell_type": "code",
   "execution_count": 4,
   "id": "ed85a18d",
   "metadata": {},
   "outputs": [],
   "source": [
    "#Filter data\n",
    "#We only want to see data that doesn't equal control\n",
    "campaign_data = campaign_data.loc[campaign_data[\"mailer_type\"] != \"Control\"]"
   ]
  },
  {
   "cell_type": "code",
   "execution_count": 5,
   "id": "0e082021",
   "metadata": {},
   "outputs": [
    {
     "data": {
      "text/html": [
       "<div>\n",
       "<style scoped>\n",
       "    .dataframe tbody tr th:only-of-type {\n",
       "        vertical-align: middle;\n",
       "    }\n",
       "\n",
       "    .dataframe tbody tr th {\n",
       "        vertical-align: top;\n",
       "    }\n",
       "\n",
       "    .dataframe thead th {\n",
       "        text-align: right;\n",
       "    }\n",
       "</style>\n",
       "<table border=\"1\" class=\"dataframe\">\n",
       "  <thead>\n",
       "    <tr style=\"text-align: right;\">\n",
       "      <th></th>\n",
       "      <th>customer_id</th>\n",
       "      <th>campaign_name</th>\n",
       "      <th>campaign_date</th>\n",
       "      <th>mailer_type</th>\n",
       "      <th>signup_flag</th>\n",
       "    </tr>\n",
       "  </thead>\n",
       "  <tbody>\n",
       "    <tr>\n",
       "      <th>0</th>\n",
       "      <td>74</td>\n",
       "      <td>delivery_club</td>\n",
       "      <td>2020-07-01</td>\n",
       "      <td>Mailer1</td>\n",
       "      <td>1</td>\n",
       "    </tr>\n",
       "    <tr>\n",
       "      <th>1</th>\n",
       "      <td>524</td>\n",
       "      <td>delivery_club</td>\n",
       "      <td>2020-07-01</td>\n",
       "      <td>Mailer1</td>\n",
       "      <td>1</td>\n",
       "    </tr>\n",
       "    <tr>\n",
       "      <th>2</th>\n",
       "      <td>607</td>\n",
       "      <td>delivery_club</td>\n",
       "      <td>2020-07-01</td>\n",
       "      <td>Mailer2</td>\n",
       "      <td>1</td>\n",
       "    </tr>\n",
       "    <tr>\n",
       "      <th>3</th>\n",
       "      <td>343</td>\n",
       "      <td>delivery_club</td>\n",
       "      <td>2020-07-01</td>\n",
       "      <td>Mailer1</td>\n",
       "      <td>0</td>\n",
       "    </tr>\n",
       "    <tr>\n",
       "      <th>4</th>\n",
       "      <td>322</td>\n",
       "      <td>delivery_club</td>\n",
       "      <td>2020-07-01</td>\n",
       "      <td>Mailer2</td>\n",
       "      <td>1</td>\n",
       "    </tr>\n",
       "    <tr>\n",
       "      <th>...</th>\n",
       "      <td>...</td>\n",
       "      <td>...</td>\n",
       "      <td>...</td>\n",
       "      <td>...</td>\n",
       "      <td>...</td>\n",
       "    </tr>\n",
       "    <tr>\n",
       "      <th>863</th>\n",
       "      <td>765</td>\n",
       "      <td>delivery_club</td>\n",
       "      <td>2020-07-01</td>\n",
       "      <td>Mailer2</td>\n",
       "      <td>1</td>\n",
       "    </tr>\n",
       "    <tr>\n",
       "      <th>864</th>\n",
       "      <td>466</td>\n",
       "      <td>delivery_club</td>\n",
       "      <td>2020-07-01</td>\n",
       "      <td>Mailer1</td>\n",
       "      <td>1</td>\n",
       "    </tr>\n",
       "    <tr>\n",
       "      <th>865</th>\n",
       "      <td>372</td>\n",
       "      <td>delivery_club</td>\n",
       "      <td>2020-07-01</td>\n",
       "      <td>Mailer2</td>\n",
       "      <td>1</td>\n",
       "    </tr>\n",
       "    <tr>\n",
       "      <th>866</th>\n",
       "      <td>104</td>\n",
       "      <td>delivery_club</td>\n",
       "      <td>2020-07-01</td>\n",
       "      <td>Mailer1</td>\n",
       "      <td>1</td>\n",
       "    </tr>\n",
       "    <tr>\n",
       "      <th>867</th>\n",
       "      <td>393</td>\n",
       "      <td>delivery_club</td>\n",
       "      <td>2020-07-01</td>\n",
       "      <td>Mailer2</td>\n",
       "      <td>1</td>\n",
       "    </tr>\n",
       "  </tbody>\n",
       "</table>\n",
       "<p>711 rows × 5 columns</p>\n",
       "</div>"
      ],
      "text/plain": [
       "     customer_id  campaign_name campaign_date mailer_type  signup_flag\n",
       "0             74  delivery_club    2020-07-01     Mailer1            1\n",
       "1            524  delivery_club    2020-07-01     Mailer1            1\n",
       "2            607  delivery_club    2020-07-01     Mailer2            1\n",
       "3            343  delivery_club    2020-07-01     Mailer1            0\n",
       "4            322  delivery_club    2020-07-01     Mailer2            1\n",
       "..           ...            ...           ...         ...          ...\n",
       "863          765  delivery_club    2020-07-01     Mailer2            1\n",
       "864          466  delivery_club    2020-07-01     Mailer1            1\n",
       "865          372  delivery_club    2020-07-01     Mailer2            1\n",
       "866          104  delivery_club    2020-07-01     Mailer1            1\n",
       "867          393  delivery_club    2020-07-01     Mailer2            1\n",
       "\n",
       "[711 rows x 5 columns]"
      ]
     },
     "execution_count": 5,
     "metadata": {},
     "output_type": "execute_result"
    }
   ],
   "source": [
    "#We have now dropped all control groups here\n",
    "campaign_data"
   ]
  },
  {
   "cell_type": "code",
   "execution_count": 6,
   "id": "1c16ff49",
   "metadata": {},
   "outputs": [],
   "source": [
    "#Cross tabs\n",
    "observed_values = pd.crosstab(campaign_data[\"mailer_type\"], campaign_data[\"signup_flag\"]).values\n",
    "#Pass two columns of interest, mailer_type and signup_flag"
   ]
  },
  {
   "cell_type": "code",
   "execution_count": 7,
   "id": "d890497b",
   "metadata": {},
   "outputs": [
    {
     "data": {
      "text/plain": [
       "array([[252, 123],\n",
       "       [209, 127]], dtype=int64)"
      ]
     },
     "execution_count": 7,
     "metadata": {},
     "output_type": "execute_result"
    }
   ],
   "source": [
    "observed_values\n",
    "#We have an array that is 2x2 this is what we want"
   ]
  },
  {
   "cell_type": "code",
   "execution_count": 8,
   "id": "10ed0c82",
   "metadata": {},
   "outputs": [
    {
     "name": "stdout",
     "output_type": "stream",
     "text": [
      "0.328 0.37797619047619047\n"
     ]
    }
   ],
   "source": [
    "mailer1_signup_rate = 123/(252+123) #on first row, 123/252\n",
    "mailer2_signup_rate = 127/(127+209)\n",
    "\n",
    "print(mailer1_signup_rate, mailer2_signup_rate)\n"
   ]
  },
  {
   "cell_type": "code",
   "execution_count": 10,
   "id": "0e732743",
   "metadata": {},
   "outputs": [],
   "source": [
    "#We can see that mailer 2 seems to have a higher conversion rate - 33% vs. 38% (rounded up)\n",
    "#State hypotheses and set acceptance criteria\n",
    "\n",
    "null_hypothesis = \"There is no relationship between mailer type and sign up rate. They are independent.\"\n",
    "\n",
    "alternate_hypothesis = \"There is a relationship between mailer type and signup rate. They are not independent.\"\n",
    "\n",
    "acceptance_criteria = 0.05"
   ]
  },
  {
   "cell_type": "code",
   "execution_count": 11,
   "id": "65fd1129",
   "metadata": {},
   "outputs": [
    {
     "name": "stdout",
     "output_type": "stream",
     "text": [
      "1.9414468614812481 0.16351152223398197\n"
     ]
    }
   ],
   "source": [
    "#Calculate expected frequencies & chi-square statistic\n",
    "\n",
    "chi2_statistic, p_value, dof, expected_values = chi2_contingency(observed_values, correction = False) #False is Yates correction - if DF are equal to 1 with 2x2 matrix, we want it false\n",
    "print(chi2_statistic, p_value)"
   ]
  },
  {
   "cell_type": "code",
   "execution_count": 12,
   "id": "b8ec8b51",
   "metadata": {},
   "outputs": [],
   "source": [
    "#Chi-square is 1.94, p-value is 0.16 - we accept the null hypothesis. No significant difference here."
   ]
  },
  {
   "cell_type": "code",
   "execution_count": 13,
   "id": "53a64658",
   "metadata": {},
   "outputs": [
    {
     "name": "stdout",
     "output_type": "stream",
     "text": [
      "3.841458820694124\n"
     ]
    }
   ],
   "source": [
    "#Critical value for our test\n",
    "#dof = degrees of freedom\n",
    "critical_value = chi2.ppf(1 - acceptance_criteria, dof) #Percentage point function - find critical value along chi-square based on acceptance criterian\n",
    "print(critical_value)"
   ]
  },
  {
   "cell_type": "code",
   "execution_count": 14,
   "id": "0fc364ef",
   "metadata": {},
   "outputs": [],
   "source": [
    "#We need a chi-square of 3.84 to meet our acceptance value of 0.05."
   ]
  },
  {
   "cell_type": "code",
   "execution_count": 17,
   "id": "29f1b2f7",
   "metadata": {},
   "outputs": [
    {
     "name": "stdout",
     "output_type": "stream",
     "text": [
      "As our chi-square statistic of 1.9414468614812481 is lower than our critical value of 3.841458820694124 - we accept the null hypothesis, and conclude that: There is no relationship between mailer type and sign up rate. They are independent.\n"
     ]
    }
   ],
   "source": [
    "if chi2_statistic >= critical_value:\n",
    "    print(f\"As our chi-square statistic of {chi2_statistic} is higher than our critical value of {critical_value} - we reject the null hypothesis, and conclude that: {alternate_hypothesis}\")\n",
    "else:\n",
    "    print(f\"As our chi-square statistic of {chi2_statistic} is lower than our critical value of {critical_value} - we accept the null hypothesis, and conclude that: {null_hypothesis}\")\n"
   ]
  },
  {
   "cell_type": "code",
   "execution_count": 19,
   "id": "3ee620fc",
   "metadata": {},
   "outputs": [
    {
     "name": "stdout",
     "output_type": "stream",
     "text": [
      "As our p-value of 0.16351152223398197 is higher than our acceptance criteria 0.05 - we accept the null hypothesis, and conclude that: There is no relationship between mailer type and sign up rate. They are independent.\n"
     ]
    }
   ],
   "source": [
    "#Print the results\n",
    "if p_value <= acceptance_criteria:\n",
    "    print(f\"As our p-value of {p_value} is lower than our acceptance criteria of {acceptance_criteria} - we reject the null hypothesis, and conclude that: {alternate_hypothesis}\")\n",
    "else:\n",
    "    print(f\"As our p-value of {p_value} is higher than our acceptance criteria {acceptance_criteria} - we accept the null hypothesis, and conclude that: {null_hypothesis}\")\n"
   ]
  },
  {
   "cell_type": "code",
   "execution_count": 20,
   "id": "80d82d9f",
   "metadata": {},
   "outputs": [],
   "source": [
    "#Perhaps ABC Grocery should run further tests, or conclude that they should look into the cheaper mailer (mailer 1) over the expensive mailer (mailer 2)\n",
    "#We should be careful of making any hard conclusions here."
   ]
  },
  {
   "cell_type": "code",
   "execution_count": null,
   "id": "036571c3",
   "metadata": {},
   "outputs": [],
   "source": []
  }
 ],
 "metadata": {
  "kernelspec": {
   "display_name": "Python 3 (ipykernel)",
   "language": "python",
   "name": "python3"
  },
  "language_info": {
   "codemirror_mode": {
    "name": "ipython",
    "version": 3
   },
   "file_extension": ".py",
   "mimetype": "text/x-python",
   "name": "python",
   "nbconvert_exporter": "python",
   "pygments_lexer": "ipython3",
   "version": "3.11.5"
  }
 },
 "nbformat": 4,
 "nbformat_minor": 5
}
